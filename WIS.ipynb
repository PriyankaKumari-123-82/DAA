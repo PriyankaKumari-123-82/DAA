{
 "cells": [
  {
   "cell_type": "code",
   "execution_count": 1,
   "id": "1a995670-6434-4e65-9be8-a2529cf34679",
   "metadata": {},
   "outputs": [
    {
     "name": "stdout",
     "output_type": "stream",
     "text": [
      "Maximum weight of non-overlapping intervals: 12\n"
     ]
    }
   ],
   "source": [
    "# Function to find the last non-overlapping interval using binary search\n",
    "def find_last_compatible(intervals, i):\n",
    "    # Perform binary search to find the last interval that ends before intervals[i] starts\n",
    "    low, high = 0, i - 1\n",
    "    while low <= high:\n",
    "        mid = (low + high) // 2\n",
    "        if intervals[mid][1] <= intervals[i][0]:\n",
    "            if intervals[mid + 1][1] <= intervals[i][0]:\n",
    "                low = mid + 1\n",
    "            else:\n",
    "                return mid\n",
    "        else:\n",
    "            high = mid - 1\n",
    "    return -1\n",
    "\n",
    "def weighted_interval_scheduling(intervals):\n",
    "    # Sort intervals by their end times\n",
    "    intervals.sort(key=lambda x: x[1])  # Sorting by end time\n",
    "    \n",
    "    n = len(intervals)\n",
    "    \n",
    "    # DP array where dp[i] is the maximum weight considering intervals up to i\n",
    "    dp = [0] * (n + 1)\n",
    "    \n",
    "    # Iterate through each interval and fill dp array\n",
    "    for i in range(1, n + 1):\n",
    "        # Current interval (1-based indexing in dp array)\n",
    "        curr_interval = intervals[i - 1]\n",
    "        \n",
    "        # Find the last compatible interval using binary search\n",
    "        last_compatible = find_last_compatible(intervals, i - 1)\n",
    "        \n",
    "        # Option 1: Do not include the current interval\n",
    "        option1 = dp[i - 1]\n",
    "        \n",
    "        # Option 2: Include the current interval\n",
    "        option2 = curr_interval[2] + (dp[last_compatible + 1] if last_compatible != -1 else 0)\n",
    "        \n",
    "        # Choose the better option\n",
    "        dp[i] = max(option1, option2)\n",
    "    \n",
    "    # The answer will be the maximum value we can get with all intervals\n",
    "    return dp[n]\n",
    "\n",
    "# Example usage\n",
    "intervals = [\n",
    "    (1, 4, 5),  # (start_time, end_time, weight)\n",
    "    (2, 6, 6),\n",
    "    (5, 7, 4),\n",
    "    (8, 9, 3)\n",
    "]\n",
    "\n",
    "print(\"Maximum weight of non-overlapping intervals:\", weighted_interval_scheduling(intervals))\n"
   ]
  },
  {
   "cell_type": "code",
   "execution_count": null,
   "id": "5bd6b7f2-4c1a-49eb-a25a-e46e7e93558d",
   "metadata": {},
   "outputs": [],
   "source": []
  }
 ],
 "metadata": {
  "kernelspec": {
   "display_name": "Python 3 (ipykernel)",
   "language": "python",
   "name": "python3"
  },
  "language_info": {
   "codemirror_mode": {
    "name": "ipython",
    "version": 3
   },
   "file_extension": ".py",
   "mimetype": "text/x-python",
   "name": "python",
   "nbconvert_exporter": "python",
   "pygments_lexer": "ipython3",
   "version": "3.12.4"
  }
 },
 "nbformat": 4,
 "nbformat_minor": 5
}
