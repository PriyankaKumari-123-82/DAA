{
  "nbformat": 4,
  "nbformat_minor": 0,
  "metadata": {
    "colab": {
      "provenance": [],
      "authorship_tag": "ABX9TyM7XGnjENIGkwVkGo9g/w9q",
      "include_colab_link": true
    },
    "kernelspec": {
      "name": "python3",
      "display_name": "Python 3"
    },
    "language_info": {
      "name": "python"
    }
  },
  "cells": [
    {
      "cell_type": "markdown",
      "metadata": {
        "id": "view-in-github",
        "colab_type": "text"
      },
      "source": [
        "<a href=\"https://colab.research.google.com/github/PriyankaKumari-123-82/DAA/blob/main/Neural_network_assignment.ipynb\" target=\"_parent\"><img src=\"https://colab.research.google.com/assets/colab-badge.svg\" alt=\"Open In Colab\"/></a>"
      ]
    },
    {
      "cell_type": "markdown",
      "source": [
        "**1. Load and Preprocess Data**:\n",
        "We’ll use the MNIST dataset and handle normalization, flattening, and one-hot encoding manually."
      ],
      "metadata": {
        "id": "emI25B44ajl5"
      }
    },
    {
      "cell_type": "code",
      "source": [
        "import numpy as np\n",
        "from tensorflow.keras.datasets import mnist\n",
        "\n",
        "# Load MNIST data\n",
        "(x_train, y_train), (x_test, y_test) = mnist.load_data()\n",
        "\n",
        "# Normalize pixel values to [0, 1]\n",
        "x_train = x_train / 255.0\n",
        "x_test = x_test / 255.0\n",
        "\n",
        "# Flatten images\n",
        "x_train = x_train.reshape(-1, 28 * 28)\n",
        "x_test = x_test.reshape(-1, 28 * 28)\n",
        "\n",
        "# One-hot encode labels\n",
        "def one_hot_encode(labels, num_classes=10):\n",
        "    one_hot = np.zeros((labels.shape[0], num_classes))\n",
        "    one_hot[np.arange(labels.shape[0]), labels] = 1\n",
        "    return one_hot\n",
        "\n",
        "y_train = one_hot_encode(y_train)\n",
        "y_test = one_hot_encode(y_test)\n"
      ],
      "metadata": {
        "id": "uc6-olIPYNW7"
      },
      "execution_count": 8,
      "outputs": []
    },
    {
      "cell_type": "markdown",
      "source": [
        "**2. Implement Neural Network**:\n",
        "Define the components of a neural network, including forward propagation, activation functions, loss function, and backpropagation.\n",
        "\n",
        "**Initialize Parameters**\n",
        "\n",
        "\n",
        "\n",
        "\n",
        "\n"
      ],
      "metadata": {
        "id": "O1wulYY_a8_-"
      }
    },
    {
      "cell_type": "code",
      "source": [
        "def initialize_weights(input_size, hidden_size, output_size):\n",
        "    np.random.seed(42)\n",
        "    W1 = np.random.randn(input_size, hidden_size) * 0.01\n",
        "    b1 = np.zeros((1, hidden_size))\n",
        "    W2 = np.random.randn(hidden_size, output_size) * 0.01\n",
        "    b2 = np.zeros((1, output_size))\n",
        "    return W1, b1, W2, b2\n"
      ],
      "metadata": {
        "id": "JPrfW5AIYZAX"
      },
      "execution_count": 9,
      "outputs": []
    },
    {
      "cell_type": "markdown",
      "source": [
        "**Activation Functions**"
      ],
      "metadata": {
        "id": "LU2QOqGAcyHi"
      }
    },
    {
      "cell_type": "code",
      "source": [
        "def relu(Z):\n",
        "    return np.maximum(0, Z)\n",
        "\n",
        "def relu_derivative(Z):\n",
        "    return Z > 0\n",
        "\n",
        "def softmax(Z):\n",
        "    exp_Z = np.exp(Z - np.max(Z, axis=1, keepdims=True))\n",
        "    return exp_Z / np.sum(exp_Z, axis=1, keepdims=True)\n"
      ],
      "metadata": {
        "id": "Nr51tSQzYdAg"
      },
      "execution_count": 10,
      "outputs": []
    },
    {
      "cell_type": "markdown",
      "source": [
        "**Forward Propagation**"
      ],
      "metadata": {
        "id": "myGw4Gq_ddkV"
      }
    },
    {
      "cell_type": "code",
      "source": [
        "def forward_propagation(X, W1, b1, W2, b2):\n",
        "    Z1 = np.dot(X, W1) + b1\n",
        "    A1 = relu(Z1)\n",
        "    Z2 = np.dot(A1, W2) + b2\n",
        "    A2 = softmax(Z2)\n",
        "    cache = (Z1, A1, Z2, A2)\n",
        "    return A2, cache\n"
      ],
      "metadata": {
        "id": "yruGs47XYgA8"
      },
      "execution_count": 11,
      "outputs": []
    },
    {
      "cell_type": "markdown",
      "source": [
        "**Compute Loss**"
      ],
      "metadata": {
        "id": "INnDlmn5d0Ay"
      }
    },
    {
      "cell_type": "code",
      "source": [
        "def compute_loss(Y, A2):\n",
        "    m = Y.shape[0]\n",
        "    return -np.sum(Y * np.log(A2 + 1e-8)) / m\n"
      ],
      "metadata": {
        "id": "92cD9DiwYksa"
      },
      "execution_count": 12,
      "outputs": []
    },
    {
      "cell_type": "markdown",
      "source": [
        "**Backward Propagation**"
      ],
      "metadata": {
        "id": "wWP6tAg4ejq9"
      }
    },
    {
      "cell_type": "code",
      "source": [
        "def backward_propagation(X, Y, cache, W1, W2):\n",
        "    Z1, A1, Z2, A2 = cache\n",
        "    m = X.shape[0]\n",
        "\n",
        "    dZ2 = A2 - Y\n",
        "    dW2 = np.dot(A1.T, dZ2) / m\n",
        "    db2 = np.sum(dZ2, axis=0, keepdims=True) / m\n",
        "\n",
        "    dA1 = np.dot(dZ2, W2.T)\n",
        "    dZ1 = dA1 * relu_derivative(Z1)\n",
        "    dW1 = np.dot(X.T, dZ1) / m\n",
        "    db1 = np.sum(dZ1, axis=0, keepdims=True) / m\n",
        "\n",
        "    return dW1, db1, dW2, db2\n"
      ],
      "metadata": {
        "id": "V3GmrCaDYn1I"
      },
      "execution_count": 13,
      "outputs": []
    },
    {
      "cell_type": "markdown",
      "source": [
        "**Update Parameters**"
      ],
      "metadata": {
        "id": "BapIG1tfffXJ"
      }
    },
    {
      "cell_type": "code",
      "source": [
        "def update_parameters(W1, b1, W2, b2, dW1, db1, dW2, db2, learning_rate):\n",
        "    W1 -= learning_rate * dW1\n",
        "    b1 -= learning_rate * db1\n",
        "    W2 -= learning_rate * dW2\n",
        "    b2 -= learning_rate * db2\n",
        "    return W1, b1, W2, b2\n"
      ],
      "metadata": {
        "id": "t71UiOY7Yt_E"
      },
      "execution_count": 14,
      "outputs": []
    },
    {
      "cell_type": "markdown",
      "source": [
        "**3. Train the Model**:\n",
        "Implement the training loop to iteratively update weights."
      ],
      "metadata": {
        "id": "3x9tUECzgzId"
      }
    },
    {
      "cell_type": "code",
      "source": [
        "def train(X, Y, input_size, hidden_size, output_size, epochs, learning_rate):\n",
        "    W1, b1, W2, b2 = initialize_weights(input_size, hidden_size, output_size)\n",
        "\n",
        "    for epoch in range(epochs):\n",
        "        A2, cache = forward_propagation(X, W1, b1, W2, b2)\n",
        "        loss = compute_loss(Y, A2)\n",
        "        dW1, db1, dW2, db2 = backward_propagation(X, Y, cache, W1, W2)\n",
        "        W1, b1, W2, b2 = update_parameters(W1, b1, W2, b2, dW1, db1, dW2, db2, learning_rate)\n",
        "\n",
        "        if epoch % 10 == 0:\n",
        "            print(f\"Epoch {epoch}, Loss: {loss:.4f}\")\n",
        "\n",
        "    return W1, b1, W2, b2\n"
      ],
      "metadata": {
        "id": "Xs-t4xozY2vQ"
      },
      "execution_count": 15,
      "outputs": []
    },
    {
      "cell_type": "markdown",
      "source": [
        "**4. Evaluate the Model**:\n",
        "Compute accuracy and visualize predictions."
      ],
      "metadata": {
        "id": "kqxGrsbng-ss"
      }
    },
    {
      "cell_type": "code",
      "source": [
        "def predict(X, W1, b1, W2, b2):\n",
        "    A2, _ = forward_propagation(X, W1, b1, W2, b2)\n",
        "    return np.argmax(A2, axis=1)\n",
        "\n",
        "def accuracy(Y_true, Y_pred):\n",
        "    return np.mean(Y_true == Y_pred) * 100\n",
        "\n",
        "# Train the model\n",
        "input_size = 28 * 28\n",
        "hidden_size = 128\n",
        "output_size = 10\n",
        "epochs = 100\n",
        "learning_rate = 0.1\n",
        "\n",
        "W1, b1, W2, b2 = train(x_train, y_train, input_size, hidden_size, output_size, epochs, learning_rate)\n",
        "\n",
        "# Evaluate on test data\n",
        "y_test_pred = predict(x_test, W1, b1, W2, b2)\n",
        "y_test_true = np.argmax(y_test, axis=1)\n",
        "\n",
        "test_acc = accuracy(y_test_true, y_test_pred)\n",
        "print(f\"Test Accuracy: {test_acc:.2f}%\")\n"
      ],
      "metadata": {
        "colab": {
          "base_uri": "https://localhost:8080/"
        },
        "id": "xROvnCmQY505",
        "outputId": "10739572-eca3-4e86-9a76-50ed89fbb934"
      },
      "execution_count": 16,
      "outputs": [
        {
          "output_type": "stream",
          "name": "stdout",
          "text": [
            "Epoch 0, Loss: 2.3031\n",
            "Epoch 10, Loss: 2.2910\n",
            "Epoch 20, Loss: 2.2692\n",
            "Epoch 30, Loss: 2.2227\n",
            "Epoch 40, Loss: 2.1304\n",
            "Epoch 50, Loss: 1.9724\n",
            "Epoch 60, Loss: 1.7470\n",
            "Epoch 70, Loss: 1.4909\n",
            "Epoch 80, Loss: 1.2614\n",
            "Epoch 90, Loss: 1.0838\n",
            "Test Accuracy: 78.79%\n"
          ]
        }
      ]
    },
    {
      "cell_type": "code",
      "source": [],
      "metadata": {
        "id": "juZORxr5Y9M8"
      },
      "execution_count": null,
      "outputs": []
    }
  ]
}